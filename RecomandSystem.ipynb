{
 "cells": [
  {
   "cell_type": "code",
   "execution_count": 1,
   "metadata": {},
   "outputs": [
    {
     "name": "stderr",
     "output_type": "stream",
     "text": [
      "Using TensorFlow backend.\n"
     ]
    },
    {
     "name": "stdout",
     "output_type": "stream",
     "text": [
      "((array([[[0, 0, 0, ..., 0, 0, 0],\n",
      "        [0, 0, 0, ..., 0, 0, 0],\n",
      "        [0, 0, 0, ..., 0, 0, 0],\n",
      "        ...,\n",
      "        [0, 0, 0, ..., 0, 0, 0],\n",
      "        [0, 0, 0, ..., 0, 0, 0],\n",
      "        [0, 0, 0, ..., 0, 0, 0]],\n",
      "\n",
      "       [[0, 0, 0, ..., 0, 0, 0],\n",
      "        [0, 0, 0, ..., 0, 0, 0],\n",
      "        [0, 0, 0, ..., 0, 0, 0],\n",
      "        ...,\n",
      "        [0, 0, 0, ..., 0, 0, 0],\n",
      "        [0, 0, 0, ..., 0, 0, 0],\n",
      "        [0, 0, 0, ..., 0, 0, 0]],\n",
      "\n",
      "       [[0, 0, 0, ..., 0, 0, 0],\n",
      "        [0, 0, 0, ..., 0, 0, 0],\n",
      "        [0, 0, 0, ..., 0, 0, 0],\n",
      "        ...,\n",
      "        [0, 0, 0, ..., 0, 0, 0],\n",
      "        [0, 0, 0, ..., 0, 0, 0],\n",
      "        [0, 0, 0, ..., 0, 0, 0]],\n",
      "\n",
      "       ...,\n",
      "\n",
      "       [[0, 0, 0, ..., 0, 0, 0],\n",
      "        [0, 0, 0, ..., 0, 0, 0],\n",
      "        [0, 0, 0, ..., 0, 0, 0],\n",
      "        ...,\n",
      "        [0, 0, 0, ..., 0, 0, 0],\n",
      "        [0, 0, 0, ..., 0, 0, 0],\n",
      "        [0, 0, 0, ..., 0, 0, 0]],\n",
      "\n",
      "       [[0, 0, 0, ..., 0, 0, 0],\n",
      "        [0, 0, 0, ..., 0, 0, 0],\n",
      "        [0, 0, 0, ..., 0, 0, 0],\n",
      "        ...,\n",
      "        [0, 0, 0, ..., 0, 0, 0],\n",
      "        [0, 0, 0, ..., 0, 0, 0],\n",
      "        [0, 0, 0, ..., 0, 0, 0]],\n",
      "\n",
      "       [[0, 0, 0, ..., 0, 0, 0],\n",
      "        [0, 0, 0, ..., 0, 0, 0],\n",
      "        [0, 0, 0, ..., 0, 0, 0],\n",
      "        ...,\n",
      "        [0, 0, 0, ..., 0, 0, 0],\n",
      "        [0, 0, 0, ..., 0, 0, 0],\n",
      "        [0, 0, 0, ..., 0, 0, 0]]], dtype=uint8), array([5, 0, 4, ..., 5, 6, 8], dtype=uint8)), (array([[[0, 0, 0, ..., 0, 0, 0],\n",
      "        [0, 0, 0, ..., 0, 0, 0],\n",
      "        [0, 0, 0, ..., 0, 0, 0],\n",
      "        ...,\n",
      "        [0, 0, 0, ..., 0, 0, 0],\n",
      "        [0, 0, 0, ..., 0, 0, 0],\n",
      "        [0, 0, 0, ..., 0, 0, 0]],\n",
      "\n",
      "       [[0, 0, 0, ..., 0, 0, 0],\n",
      "        [0, 0, 0, ..., 0, 0, 0],\n",
      "        [0, 0, 0, ..., 0, 0, 0],\n",
      "        ...,\n",
      "        [0, 0, 0, ..., 0, 0, 0],\n",
      "        [0, 0, 0, ..., 0, 0, 0],\n",
      "        [0, 0, 0, ..., 0, 0, 0]],\n",
      "\n",
      "       [[0, 0, 0, ..., 0, 0, 0],\n",
      "        [0, 0, 0, ..., 0, 0, 0],\n",
      "        [0, 0, 0, ..., 0, 0, 0],\n",
      "        ...,\n",
      "        [0, 0, 0, ..., 0, 0, 0],\n",
      "        [0, 0, 0, ..., 0, 0, 0],\n",
      "        [0, 0, 0, ..., 0, 0, 0]],\n",
      "\n",
      "       ...,\n",
      "\n",
      "       [[0, 0, 0, ..., 0, 0, 0],\n",
      "        [0, 0, 0, ..., 0, 0, 0],\n",
      "        [0, 0, 0, ..., 0, 0, 0],\n",
      "        ...,\n",
      "        [0, 0, 0, ..., 0, 0, 0],\n",
      "        [0, 0, 0, ..., 0, 0, 0],\n",
      "        [0, 0, 0, ..., 0, 0, 0]],\n",
      "\n",
      "       [[0, 0, 0, ..., 0, 0, 0],\n",
      "        [0, 0, 0, ..., 0, 0, 0],\n",
      "        [0, 0, 0, ..., 0, 0, 0],\n",
      "        ...,\n",
      "        [0, 0, 0, ..., 0, 0, 0],\n",
      "        [0, 0, 0, ..., 0, 0, 0],\n",
      "        [0, 0, 0, ..., 0, 0, 0]],\n",
      "\n",
      "       [[0, 0, 0, ..., 0, 0, 0],\n",
      "        [0, 0, 0, ..., 0, 0, 0],\n",
      "        [0, 0, 0, ..., 0, 0, 0],\n",
      "        ...,\n",
      "        [0, 0, 0, ..., 0, 0, 0],\n",
      "        [0, 0, 0, ..., 0, 0, 0],\n",
      "        [0, 0, 0, ..., 0, 0, 0]]], dtype=uint8), array([7, 2, 1, ..., 4, 5, 6], dtype=uint8)))\n"
     ]
    }
   ],
   "source": [
    "import pandas as pd\n",
    "import numpy as np\n",
    "from keras.layers import Embedding\n",
    "import re\n",
    "from keras import Input, layers,models\n",
    "from keras import backend as K\n",
    "from keras.datasets import imdb\n",
    "from keras import preprocessing\n",
    "import keras\n",
    "import pickle\n",
    "import warnings\n",
    "warnings.filterwarnings('ignore')"
   ]
  },
  {
   "cell_type": "markdown",
   "metadata": {},
   "source": [
    "## 数据初步了解"
   ]
  },
  {
   "cell_type": "markdown",
   "metadata": {},
   "source": [
    "- UserID、Occupation和MovieID不用变。\n",
    "- Gender字段：需要将‘F’和‘M’转换成0和1。\n",
    "- Age字段：要转成7个连续数字0~6。\n",
    "- Genres字段：是分类字段，要转成数字。首先将Genres中的类别转成字符串到数字的字典，然后再将每个电影的Genres字段转成数字列表，因为有些电影是多个Genres的组合。\n",
    "- Title字段：处理方式跟Genres字段一样，首先创建文本到数字的字典，然后将Title中的描述转成数字的列表。另外Title中的年份也需要去掉。\n",
    "- Genres和Title字段需要将长度统一，这样在神经网络中方便处理。空白部分用‘< PAD >’对应的数字填充。"
   ]
  },
  {
   "cell_type": "markdown",
   "metadata": {},
   "source": [
    "### 对于User数据"
   ]
  },
  {
   "cell_type": "markdown",
   "metadata": {},
   "source": [
    " - Gender is denoted by a “M” for male and “F” for female\n",
    " - Age is chosen from the following ranges:  \n",
    "   -1: “Under 18”  \n",
    "   -18: “18-24”  \n",
    "   -25: “25-34”  \n",
    "   -35: “35-44”  \n",
    "   -45: “45-49”  \n",
    "   -50: “50-55”  \n",
    "   -56: “56+”  \n",
    " - Occupation is chosen from the following choices:\n",
    "   - 全是职业"
   ]
  },
  {
   "cell_type": "markdown",
   "metadata": {},
   "source": [
    "### 对于电影数据\n",
    "- MovieID  电影ID\n",
    "- Title   电影名\n",
    "- Genres  电影类型"
   ]
  },
  {
   "cell_type": "markdown",
   "metadata": {},
   "source": [
    "## 对于评分数据\n",
    "- UserIDs range between 1 and 6040\n",
    "- MovieIDs range between 1 and 3952\n",
    "- Ratings are made on a 5-star scale (whole-star ratings only)\n",
    "- Timestamp is represented in seconds since the epoch as returned by time(2)\n",
    "- Each user has at least 20 ratings "
   ]
  },
  {
   "cell_type": "markdown",
   "metadata": {},
   "source": [
    "## 数据预处理函数"
   ]
  },
  {
   "cell_type": "code",
   "execution_count": 2,
   "metadata": {},
   "outputs": [],
   "source": [
    "def load_data():\n",
    "    user_data=pd.read_csv(r'./movieLen/ml-1m/users.dat',header=None,sep='::',names=['UserID','Gender','Age','Occupation','Zip-code'])\n",
    "    movie_data=pd.read_csv(r'./movieLen/ml-1m/movies.dat',header=None,sep='::',names=['MovieID','Title','Genres'])\n",
    "    rating_data=pd.read_csv(r'./movieLen/ml-1m/ratings.dat',sep='::',names=['UserID','MovieID','Rating','Timestamp'])\n",
    "    user_origin_data=user_data.values\n",
    "    movie_origin_data=movie_data.values\n",
    "    rating_origin_data=rating_data.values\n",
    "    Gender_map={'F':0,'M':1}\n",
    "    user_data['Gender']=user_data['Gender'].map(Gender_map)\n",
    "    age_map = {val:ii for ii,val in enumerate(set(user_data['Age']))}\n",
    "    user_data['Age']=user_data['Age'].map(age_map)\n",
    "    \n",
    "    # 将电影Title的年份去掉\n",
    "    pattern = re.compile(r'^(.*)\\((\\d+)\\)$')\n",
    "    title_map = {val:pattern.match(val).group(1) for ii,val in enumerate(set(movie_data['Title']))}\n",
    "    movie_data['Title'] = movie_data['Title'].map(title_map)\n",
    "    \n",
    "    #电影类型转数字字典\n",
    "    genres_set = set()\n",
    "    for val in movie_data['Genres'].str.split('|'):\n",
    "        genres_set.update(val)\n",
    "    genres_set.add('<PAD>')\n",
    "    genres2int = {val:ii for ii, val in enumerate(genres_set)}\n",
    "    \n",
    "    genres_map = {val:[genres2int[row] for row in val.split('|')] for ii,val in enumerate(set(movie_data['Genres']))}\n",
    "    for key in genres_map:\n",
    "        for cnt in range(max(genres2int.values()) - len(genres_map[key])):\n",
    "            genres_map[key].insert(len(genres_map[key]) + cnt,genres2int['<PAD>'])\n",
    "    movie_data['Genres'] = movie_data['Genres'].map(genres_map)\n",
    "    title_set = set()\n",
    "    for val in movie_data['Title'].str.split():\n",
    "        title_set.update(val)\n",
    "    \n",
    "    title_set.add('<PAD>')\n",
    "    title2int = {val:ii for ii, val in enumerate(title_set)}\n",
    "    title_count = 15\n",
    "    title_map = {val:[title2int[row] for row in val.split()] for ii,val in enumerate(set(movie_data['Title']))}\n",
    "    for key in title_map:\n",
    "        for cnt in range(title_count - len(title_map[key])):\n",
    "            title_map[key].insert(len(title_map[key]) + cnt,title2int['<PAD>'])\n",
    "    movie_data['Title'] = movie_data['Title'].map(title_map)\n",
    "    data = pd.merge(pd.merge(rating_data, user_data), movie_data)\n",
    "    \n",
    "    target_fields = ['Rating']\n",
    "    features_pd, targets_pd = data.drop(target_fields, axis=1), data[target_fields]\n",
    "    features = features_pd.values\n",
    "    targets_values = targets_pd.values\n",
    "    \n",
    "    return title_count, title_set, genres2int, features, targets_values, rating_data, user_data, movie_data, data, movie_origin_data, user_origin_data"
   ]
  },
  {
   "cell_type": "code",
   "execution_count": 3,
   "metadata": {},
   "outputs": [],
   "source": [
    "title_count, title_set, genres2int, features, targets_values, ratings, user_data, movie_data, data, movie_origin_data, user_origin_data=load_data()"
   ]
  },
  {
   "cell_type": "markdown",
   "metadata": {},
   "source": [
    "## 网络超参"
   ]
  },
  {
   "cell_type": "code",
   "execution_count": 4,
   "metadata": {},
   "outputs": [],
   "source": [
    "#嵌入矩阵的维度\n",
    "embed_dim = 32\n",
    "# UserId 最大max\n",
    "user_id_max=max(data.UserID)+1\n",
    "# User性别类型数量\n",
    "user_gender_max=max(data.Gender)+1\n",
    "# User年龄类型数量\n",
    "user_age_max=max(data.Age)+1\n",
    "# User职业类别数量\n",
    "user_occupation=max(data.Occupation)+1\n",
    "# MovieId 最大max\n",
    "movie_id_max =max(data.MovieID)+1\n",
    "# Movie类别数量\n",
    "movie_categories_max =max(genres2int.values())+1\n",
    "# 电影名里词数量\n",
    "movie_title_max = len(title_set) # 5217\n",
    "# 电影类型数量\n",
    "movie_categories_max =max(genres2int.values())+1\n",
    "\n",
    "#电影名长度\n",
    "sentences_size =title_count \n",
    "\n",
    "# 卷积核长度\n",
    "window_sizes =7\n",
    "\n",
    "# 池化长度\n",
    "pool_size=title_count-window_sizes+1\n",
    "\n",
    "#电影ID转下标的字典，数据集中电影ID跟下标不一致，比如第5行的数据电影ID不一定是5\n",
    "movieid2idx = {val[0]:i for i, val in enumerate(movie_origin_data)}"
   ]
  },
  {
   "cell_type": "markdown",
   "metadata": {},
   "source": [
    "## 电影名文本卷积网络"
   ]
  },
  {
   "cell_type": "code",
   "execution_count": 5,
   "metadata": {},
   "outputs": [],
   "source": [
    "# 长度为15\n",
    "movie_title_input = Input(shape=(sentences_size,), dtype='int32', name='movie_title') \n",
    "#嵌入到32维空间\n",
    "embedded_text = layers.Embedding(movie_title_max, embed_dim,)(movie_title_input) "
   ]
  },
  {
   "cell_type": "code",
   "execution_count": 6,
   "metadata": {},
   "outputs": [],
   "source": [
    "#做一卷积，卷积步幅为7\n",
    "conv1D_movie_feature=layers.Conv1D(embed_dim,window_sizes,activation='relu')(embedded_text)\n",
    "maxpool_movie_feature=layers.MaxPool1D((pool_size))(conv1D_movie_feature)\n",
    "movie_title_vec= layers.Flatten(name='FlattenMovieTitle')(maxpool_movie_feature)"
   ]
  },
  {
   "cell_type": "markdown",
   "metadata": {},
   "source": [
    "## 电影ID"
   ]
  },
  {
   "cell_type": "code",
   "execution_count": 7,
   "metadata": {},
   "outputs": [],
   "source": [
    "#电影ID嵌入\n",
    "movie_Id_input = Input(shape=(1,), dtype='int32', name='movie_id') \n",
    "movie_Id_embedding=layers.Embedding(movie_id_max, embed_dim,)(movie_Id_input)\n",
    "movoe_Id_vec=layers.Flatten(name='FlattenMovieId')(movie_Id_embedding)"
   ]
  },
  {
   "cell_type": "markdown",
   "metadata": {},
   "source": [
    "# 电影类型ID"
   ]
  },
  {
   "cell_type": "code",
   "execution_count": 8,
   "metadata": {},
   "outputs": [],
   "source": [
    "ReduceSum = layers.core.Lambda(lambda z: K.sum(z, axis=1))\n",
    "movie_genres_input = Input(shape=(max(genres2int.values()),), dtype='int32', name='movie_genres')\n",
    "movie_genres=layers.Embedding(movie_categories_max,embed_dim,)(movie_genres_input)\n",
    "#将多个Embedding的类型相加\n",
    "movie_genres_add=ReduceSum(movie_genres)"
   ]
  },
  {
   "cell_type": "markdown",
   "metadata": {},
   "source": [
    "# 将电影类型和ID concat起来"
   ]
  },
  {
   "cell_type": "code",
   "execution_count": 9,
   "metadata": {},
   "outputs": [],
   "source": [
    "#电影ID 和电影类型上各接一个32维的Dense层\n",
    "movie_Id_dense=layers.Dense(embed_dim, name='movie_id_dense')(movoe_Id_vec)\n",
    "movie_genres_dense=layers.Dense(embed_dim,name='movie_genres_dense')(movie_genres_add)"
   ]
  },
  {
   "cell_type": "code",
   "execution_count": 10,
   "metadata": {},
   "outputs": [],
   "source": [
    "#  将上面两层和电影名concat起来\n",
    "concatenated = layers.concatenate([movie_Id_dense, movie_genres_dense,movie_title_vec],axis=1) "
   ]
  },
  {
   "cell_type": "code",
   "execution_count": 11,
   "metadata": {},
   "outputs": [],
   "source": [
    "# 在上面接一个200神经元的Dense层\n",
    "movie_layers=layers.Dense(200,name='movie_feature',activation='tanh')(concatenated)"
   ]
  },
  {
   "cell_type": "markdown",
   "metadata": {},
   "source": [
    "# User特征"
   ]
  },
  {
   "cell_type": "markdown",
   "metadata": {},
   "source": [
    "## Id"
   ]
  },
  {
   "cell_type": "code",
   "execution_count": 12,
   "metadata": {},
   "outputs": [],
   "source": [
    "user_Id_input = Input(shape=(1,), dtype='int32', name='user_id') \n",
    "user_Id_embedding=layers.Embedding(user_id_max, embed_dim,)(user_Id_input)\n",
    "user_Id_vec=layers.Flatten(name='FlattenUserId')(user_Id_embedding)"
   ]
  },
  {
   "cell_type": "markdown",
   "metadata": {},
   "source": [
    "## 性别"
   ]
  },
  {
   "cell_type": "code",
   "execution_count": 13,
   "metadata": {},
   "outputs": [],
   "source": [
    "user_Gender_input = Input(shape=(1,), dtype='int32', name='user_gender') \n",
    "user_Gender_embedding=layers.Embedding(user_gender_max, embed_dim,)(user_Gender_input)\n",
    "user_Gender_vec=layers.Flatten(name='FlattenUserGender')(user_Gender_embedding)"
   ]
  },
  {
   "cell_type": "markdown",
   "metadata": {},
   "source": [
    "## 年龄"
   ]
  },
  {
   "cell_type": "code",
   "execution_count": 14,
   "metadata": {},
   "outputs": [],
   "source": [
    "user_Age_input = Input(shape=(1,), dtype='int32', name='user_age') \n",
    "user_Age_embedding=layers.Embedding(user_age_max, embed_dim,)(user_Age_input)\n",
    "user_Age_vec=layers.Flatten(name='FlattenUserAge')(user_Age_embedding)"
   ]
  },
  {
   "cell_type": "markdown",
   "metadata": {},
   "source": [
    "## 职业"
   ]
  },
  {
   "cell_type": "code",
   "execution_count": 15,
   "metadata": {},
   "outputs": [],
   "source": [
    "user_Occupation_input = Input(shape=(1,), dtype='int32', name='user_Occupation') \n",
    "user_Occupation_embedding=layers.Embedding(user_occupation, embed_dim,)(user_Occupation_input)\n",
    "user_Occupation_vec=layers.Flatten(name='FlattenUserOccupation')(user_Occupation_embedding)"
   ]
  },
  {
   "cell_type": "markdown",
   "metadata": {},
   "source": [
    "# 第一层全连接"
   ]
  },
  {
   "cell_type": "code",
   "execution_count": 16,
   "metadata": {},
   "outputs": [],
   "source": [
    "# 第一层全连接\n",
    "user_Gender_Dense=layers.Dense(embed_dim,name='user_gender_dense',activation='relu')(user_Gender_vec)\n",
    "user_Id_Dense=layers.Dense(embed_dim,name='user_id_dense',activation='relu')(user_Id_vec)\n",
    "user_Age_Dense=layers.Dense(embed_dim,name='user_age_dense',activation='relu')(user_Age_vec)\n",
    "user_occupation=layers.Dense(embed_dim,name='user_occupation_dense',activation='relu')(user_Occupation_vec)"
   ]
  },
  {
   "cell_type": "markdown",
   "metadata": {},
   "source": [
    "# 将上面各层拼接并接一个200神经元Dense层"
   ]
  },
  {
   "cell_type": "code",
   "execution_count": 17,
   "metadata": {},
   "outputs": [],
   "source": [
    "user_concatenated = layers.concatenate([user_Gender_Dense, user_Id_Dense,user_Age_Dense,user_occupation],axis=1) \n",
    "# 第二层全连接\n",
    "user_feature_Dense=layers.Dense(200,name='user_feature_Dense',activation='relu')(user_concatenated)"
   ]
  },
  {
   "cell_type": "markdown",
   "metadata": {},
   "source": [
    "# 将User和Movie拼接起来"
   ]
  },
  {
   "cell_type": "code",
   "execution_count": 18,
   "metadata": {},
   "outputs": [],
   "source": [
    "all_feature=layers.concatenate([user_feature_Dense,movie_layers],axis=1)\n",
    "all_feature_Dense=layers.Dense(1,name='final_dense')(all_feature)"
   ]
  },
  {
   "cell_type": "markdown",
   "metadata": {},
   "source": [
    "# UserId,User性别，User年龄，User职业，电影名，电影Id，电影类型"
   ]
  },
  {
   "cell_type": "code",
   "execution_count": 19,
   "metadata": {},
   "outputs": [],
   "source": [
    "model=models.Model([user_Id_input,user_Gender_input,user_Age_input,user_Occupation_input,movie_title_input,movie_Id_input,movie_genres_input],all_feature_Dense)"
   ]
  },
  {
   "cell_type": "code",
   "execution_count": 20,
   "metadata": {},
   "outputs": [
    {
     "data": {
      "text/plain": [
       "[<tf.Tensor 'user_id:0' shape=(?, 1) dtype=int32>,\n",
       " <tf.Tensor 'user_gender:0' shape=(?, 1) dtype=int32>,\n",
       " <tf.Tensor 'user_age:0' shape=(?, 1) dtype=int32>,\n",
       " <tf.Tensor 'user_Occupation:0' shape=(?, 1) dtype=int32>,\n",
       " <tf.Tensor 'movie_title:0' shape=(?, 15) dtype=int32>,\n",
       " <tf.Tensor 'movie_id:0' shape=(?, 1) dtype=int32>,\n",
       " <tf.Tensor 'movie_genres:0' shape=(?, 18) dtype=int32>]"
      ]
     },
     "execution_count": 20,
     "metadata": {},
     "output_type": "execute_result"
    }
   ],
   "source": [
    "[user_Id_input,user_Gender_input,user_Age_input,user_Occupation_input,movie_title_input,movie_Id_input,movie_genres_input]"
   ]
  },
  {
   "cell_type": "code",
   "execution_count": 21,
   "metadata": {},
   "outputs": [],
   "source": [
    "model.compile(optimizer='rmsprop',\n",
    " loss='mse',\n",
    " metrics=['mae'])"
   ]
  },
  {
   "cell_type": "code",
   "execution_count": 22,
   "metadata": {
    "scrolled": true
   },
   "outputs": [
    {
     "name": "stdout",
     "output_type": "stream",
     "text": [
      "__________________________________________________________________________________________________\n",
      "Layer (type)                    Output Shape         Param #     Connected to                     \n",
      "==================================================================================================\n",
      "movie_title (InputLayer)        (None, 15)           0                                            \n",
      "__________________________________________________________________________________________________\n",
      "user_gender (InputLayer)        (None, 1)            0                                            \n",
      "__________________________________________________________________________________________________\n",
      "user_id (InputLayer)            (None, 1)            0                                            \n",
      "__________________________________________________________________________________________________\n",
      "user_age (InputLayer)           (None, 1)            0                                            \n",
      "__________________________________________________________________________________________________\n",
      "user_Occupation (InputLayer)    (None, 1)            0                                            \n",
      "__________________________________________________________________________________________________\n",
      "movie_id (InputLayer)           (None, 1)            0                                            \n",
      "__________________________________________________________________________________________________\n",
      "movie_genres (InputLayer)       (None, 18)           0                                            \n",
      "__________________________________________________________________________________________________\n",
      "embedding_1 (Embedding)         (None, 15, 32)       166944      movie_title[0][0]                \n",
      "__________________________________________________________________________________________________\n",
      "embedding_5 (Embedding)         (None, 1, 32)        64          user_gender[0][0]                \n",
      "__________________________________________________________________________________________________\n",
      "embedding_4 (Embedding)         (None, 1, 32)        193312      user_id[0][0]                    \n",
      "__________________________________________________________________________________________________\n",
      "embedding_6 (Embedding)         (None, 1, 32)        224         user_age[0][0]                   \n",
      "__________________________________________________________________________________________________\n",
      "embedding_7 (Embedding)         (None, 1, 32)        672         user_Occupation[0][0]            \n",
      "__________________________________________________________________________________________________\n",
      "embedding_2 (Embedding)         (None, 1, 32)        126496      movie_id[0][0]                   \n",
      "__________________________________________________________________________________________________\n",
      "embedding_3 (Embedding)         (None, 18, 32)       608         movie_genres[0][0]               \n",
      "__________________________________________________________________________________________________\n",
      "conv1d_1 (Conv1D)               (None, 9, 32)        7200        embedding_1[0][0]                \n",
      "__________________________________________________________________________________________________\n",
      "FlattenUserGender (Flatten)     (None, 32)           0           embedding_5[0][0]                \n",
      "__________________________________________________________________________________________________\n",
      "FlattenUserId (Flatten)         (None, 32)           0           embedding_4[0][0]                \n",
      "__________________________________________________________________________________________________\n",
      "FlattenUserAge (Flatten)        (None, 32)           0           embedding_6[0][0]                \n",
      "__________________________________________________________________________________________________\n",
      "FlattenUserOccupation (Flatten) (None, 32)           0           embedding_7[0][0]                \n",
      "__________________________________________________________________________________________________\n",
      "FlattenMovieId (Flatten)        (None, 32)           0           embedding_2[0][0]                \n",
      "__________________________________________________________________________________________________\n",
      "lambda_1 (Lambda)               (None, 32)           0           embedding_3[0][0]                \n",
      "__________________________________________________________________________________________________\n",
      "max_pooling1d_1 (MaxPooling1D)  (None, 1, 32)        0           conv1d_1[0][0]                   \n",
      "__________________________________________________________________________________________________\n",
      "user_gender_dense (Dense)       (None, 32)           1056        FlattenUserGender[0][0]          \n",
      "__________________________________________________________________________________________________\n",
      "user_id_dense (Dense)           (None, 32)           1056        FlattenUserId[0][0]              \n",
      "__________________________________________________________________________________________________\n",
      "user_age_dense (Dense)          (None, 32)           1056        FlattenUserAge[0][0]             \n",
      "__________________________________________________________________________________________________\n",
      "user_occupation_dense (Dense)   (None, 32)           1056        FlattenUserOccupation[0][0]      \n",
      "__________________________________________________________________________________________________\n",
      "movie_id_dense (Dense)          (None, 32)           1056        FlattenMovieId[0][0]             \n",
      "__________________________________________________________________________________________________\n",
      "movie_genres_dense (Dense)      (None, 32)           1056        lambda_1[0][0]                   \n",
      "__________________________________________________________________________________________________\n",
      "FlattenMovieTitle (Flatten)     (None, 32)           0           max_pooling1d_1[0][0]            \n",
      "__________________________________________________________________________________________________\n",
      "concatenate_2 (Concatenate)     (None, 128)          0           user_gender_dense[0][0]          \n",
      "                                                                 user_id_dense[0][0]              \n",
      "                                                                 user_age_dense[0][0]             \n",
      "                                                                 user_occupation_dense[0][0]      \n",
      "__________________________________________________________________________________________________\n",
      "concatenate_1 (Concatenate)     (None, 96)           0           movie_id_dense[0][0]             \n",
      "                                                                 movie_genres_dense[0][0]         \n",
      "                                                                 FlattenMovieTitle[0][0]          \n",
      "__________________________________________________________________________________________________\n",
      "user_feature_Dense (Dense)      (None, 200)          25800       concatenate_2[0][0]              \n",
      "__________________________________________________________________________________________________\n",
      "movie_feature (Dense)           (None, 200)          19400       concatenate_1[0][0]              \n",
      "__________________________________________________________________________________________________\n",
      "concatenate_3 (Concatenate)     (None, 400)          0           user_feature_Dense[0][0]         \n",
      "                                                                 movie_feature[0][0]              \n",
      "__________________________________________________________________________________________________\n",
      "final_dense (Dense)             (None, 1)            401         concatenate_3[0][0]              \n",
      "==================================================================================================\n",
      "Total params: 547,457\n",
      "Trainable params: 547,457\n",
      "Non-trainable params: 0\n",
      "__________________________________________________________________________________________________\n"
     ]
    }
   ],
   "source": [
    "model.summary()"
   ]
  },
  {
   "cell_type": "markdown",
   "metadata": {},
   "source": [
    "# 输入数据"
   ]
  },
  {
   "cell_type": "code",
   "execution_count": 23,
   "metadata": {},
   "outputs": [],
   "source": [
    "num_samples=features.shape[0]\n",
    "user_id_data=features.take(0,1).reshape([num_samples,1])\n",
    "user_Gender_data=features.take(3,1).reshape([num_samples,1])\n",
    "user_Age_data=features.take(4,1).reshape([num_samples,1])\n",
    "user_Occupation_data=features.take(5,1).reshape([num_samples,1])\n",
    "movie_id_data=features.take(1,1).reshape([num_samples,1])\n",
    "movie_Title_data=preprocessing.sequence.pad_sequences(features.take(7,1),maxlen=15)\n",
    "movie_genres_data=preprocessing.sequence.pad_sequences(features.take(8,1),maxlen=18)"
   ]
  },
  {
   "cell_type": "code",
   "execution_count": 24,
   "metadata": {},
   "outputs": [],
   "source": [
    "callbacks = [\n",
    " keras.callbacks.TensorBoard(\n",
    " log_dir='my_log_dir',\n",
    " histogram_freq=1,\n",
    " )\n",
    "]"
   ]
  },
  {
   "cell_type": "markdown",
   "metadata": {},
   "source": [
    "## 定义callback函数，检测数"
   ]
  },
  {
   "cell_type": "markdown",
   "metadata": {},
   "source": [
    "# 正式训练"
   ]
  },
  {
   "cell_type": "code",
   "execution_count": 25,
   "metadata": {},
   "outputs": [
    {
     "name": "stdout",
     "output_type": "stream",
     "text": [
      "Train on 800167 samples, validate on 200042 samples\n",
      "Epoch 1/10\n",
      "800167/800167 [==============================] - 36s 44us/step - loss: 0.8727 - mean_absolute_error: 0.7380 - val_loss: 1.2305 - val_mean_absolute_error: 0.9134\n",
      "Epoch 2/10\n",
      "800167/800167 [==============================] - 37s 46us/step - loss: 0.8293 - mean_absolute_error: 0.7175 - val_loss: 1.2948 - val_mean_absolute_error: 0.9396\n",
      "Epoch 3/10\n",
      "800167/800167 [==============================] - 35s 44us/step - loss: 0.8234 - mean_absolute_error: 0.7143 - val_loss: 1.3368 - val_mean_absolute_error: 0.9567\n",
      "Epoch 4/10\n",
      "800167/800167 [==============================] - 38s 47us/step - loss: 0.8207 - mean_absolute_error: 0.7128 - val_loss: 1.3095 - val_mean_absolute_error: 0.9464\n",
      "Epoch 5/10\n",
      "800167/800167 [==============================] - 38s 48us/step - loss: 0.8188 - mean_absolute_error: 0.7117 - val_loss: 1.3004 - val_mean_absolute_error: 0.9415\n",
      "Epoch 6/10\n",
      "800167/800167 [==============================] - 38s 48us/step - loss: 0.8179 - mean_absolute_error: 0.7111 - val_loss: 1.3283 - val_mean_absolute_error: 0.9544\n",
      "Epoch 7/10\n",
      "800167/800167 [==============================] - 38s 47us/step - loss: 0.8170 - mean_absolute_error: 0.7105 - val_loss: 1.4876 - val_mean_absolute_error: 1.0198\n",
      "Epoch 8/10\n",
      "800167/800167 [==============================] - 38s 48us/step - loss: 0.8164 - mean_absolute_error: 0.7103 - val_loss: 1.5309 - val_mean_absolute_error: 1.0353\n",
      "Epoch 9/10\n",
      "800167/800167 [==============================] - 38s 47us/step - loss: 0.8158 - mean_absolute_error: 0.7100 - val_loss: 1.4073 - val_mean_absolute_error: 0.9860\n",
      "Epoch 10/10\n",
      "800167/800167 [==============================] - 38s 48us/step - loss: 0.8155 - mean_absolute_error: 0.7097 - val_loss: 1.5178 - val_mean_absolute_error: 1.0302\n"
     ]
    },
    {
     "data": {
      "text/plain": [
       "<keras.callbacks.History at 0x7f1aaf213a90>"
      ]
     },
     "execution_count": 25,
     "metadata": {},
     "output_type": "execute_result"
    }
   ],
   "source": [
    "model.fit([user_id_data, user_Gender_data,user_Age_data,user_Occupation_data,movie_Title_data,movie_id_data,movie_genres_data], targets_values, epochs=10, batch_size=128,validation_split=0.2,callbacks=callbacks) "
   ]
  },
  {
   "cell_type": "code",
   "execution_count": 27,
   "metadata": {},
   "outputs": [],
   "source": [
    "model.save('myRecommondStstem.h5')"
   ]
  },
  {
   "cell_type": "markdown",
   "metadata": {},
   "source": [
    "## 对用户和电影进行预测"
   ]
  },
  {
   "cell_type": "code",
   "execution_count": 28,
   "metadata": {},
   "outputs": [],
   "source": [
    "def rating_movie(user_id, movie_id):\n",
    "    user_id_val=user_id_data[user_id-1]\n",
    "    user_Gender_val=user_Gender_data[user_id-1]\n",
    "    user_Age_val=user_Age_data[user_id-1]\n",
    "    user_Occupation_val=user_Occupation_data[user_id-1]\n",
    "    movie_id_val=movie_id_data[movie_id]\n",
    "#     movie_Title_val=movie_Title_data[movie_id]\n",
    "#     movie_genres_val=movie_genres_data[movie_id]\n",
    "    movie_genres_val=np.zeros([1, max(genres2int.values())])\n",
    "    movie_Title_val=np.zeros([1, title_count])\n",
    "    movie_Title_val[0]=movie_Title_data[movieid2idx[movie_id]]\n",
    "    movie_genres_val[0]=movie_genres_data[movieid2idx[movie_id]]\n",
    "    return model.predict([user_id_val,user_Gender_val,user_Age_val,user_Occupation_val,movie_Title_val,movie_id_val,movie_genres_val])"
   ]
  },
  {
   "cell_type": "markdown",
   "metadata": {},
   "source": [
    "# 获取Movie特征"
   ]
  },
  {
   "cell_type": "markdown",
   "metadata": {},
   "source": [
    "## 电影特征"
   ]
  },
  {
   "cell_type": "code",
   "execution_count": 37,
   "metadata": {},
   "outputs": [
    {
     "data": {
      "text/plain": [
       "3883"
      ]
     },
     "execution_count": 37,
     "metadata": {},
     "output_type": "execute_result"
    }
   ],
   "source": [
    "movie_data.shape[0]"
   ]
  },
  {
   "cell_type": "code",
   "execution_count": 42,
   "metadata": {},
   "outputs": [],
   "source": [
    "movie_id_data_save=movie_data.values.take(0,1).reshape([movie_data.values.shape[0],1])\n",
    "movie_Title_data_save=preprocessing.sequence.pad_sequences(movie_data.values.take(1,1),maxlen=title_count)\n",
    "movie_genres_data_save=preprocessing.sequence.pad_sequences(movie_data.values.take(2,1),maxlen=18)"
   ]
  },
  {
   "cell_type": "code",
   "execution_count": 43,
   "metadata": {},
   "outputs": [],
   "source": [
    "movie_feature_model=models.Model(input=[movie_title_input,movie_Id_input,movie_genres_input], output=[movie_layers])"
   ]
  },
  {
   "cell_type": "code",
   "execution_count": 44,
   "metadata": {},
   "outputs": [],
   "source": [
    "movie_intermedian_output=movie_feature_model.predict([movie_Title_data_save,movie_id_data_save,movie_genres_data_save])"
   ]
  },
  {
   "cell_type": "code",
   "execution_count": 45,
   "metadata": {},
   "outputs": [],
   "source": [
    "pickle.dump((np.array(movie_intermedian_output)), open('movie_matrics.p', 'wb'))"
   ]
  },
  {
   "cell_type": "markdown",
   "metadata": {},
   "source": [
    "# 获取User特征"
   ]
  },
  {
   "cell_type": "code",
   "execution_count": 47,
   "metadata": {},
   "outputs": [],
   "source": [
    "user_feature_model=models.Model(input=[user_Id_input,user_Gender_input,user_Age_input,user_Occupation_input], output=[user_feature_Dense])"
   ]
  },
  {
   "cell_type": "code",
   "execution_count": 50,
   "metadata": {},
   "outputs": [],
   "source": [
    "user_id_data_save=user_data.values.take(0,1)\n",
    "user_Gender_data_save=user_data.values.take(1,1)\n",
    "user_Age_data_save=user_data.values.take(2,1)\n",
    "user_Occupation_data_save=user_data.values.take(3,1)"
   ]
  },
  {
   "cell_type": "code",
   "execution_count": 247,
   "metadata": {},
   "outputs": [],
   "source": [
    "user_intermedian_output=user_feature_model.predict([user_id_data_save, user_Gender_data_save,user_Age_data_save,user_Occupation_data_save])"
   ]
  },
  {
   "cell_type": "code",
   "execution_count": 248,
   "metadata": {},
   "outputs": [],
   "source": [
    "pickle.dump((np.array(user_intermedian_output)), open('user_matrics.p', 'wb'))"
   ]
  },
  {
   "cell_type": "markdown",
   "metadata": {},
   "source": [
    "# 开始做推荐"
   ]
  },
  {
   "cell_type": "markdown",
   "metadata": {},
   "source": [
    "# 推荐同类型的电影"
   ]
  },
  {
   "cell_type": "code",
   "execution_count": 265,
   "metadata": {},
   "outputs": [],
   "source": [
    "def recommend_same_type_movie(movie_id_val, top_k = 20):\n",
    "    # 对movie 特征矩阵进行归一化\n",
    "    norm_movie_matrics=np.sqrt(np.sum(movie_intermedian_output**2,axis=1))\n",
    "    normalized_movie_matrics=movie_intermedian_output/norm_movie_matrics.reshape(norm_movie_matrics.shape[0],1)\n",
    "    probs_embeddings = (normalized_movie_matrics[movieid2idx[movie_id_val]])\n",
    "    probs_similarity = probs_embeddings.dot(normalized_movie_matrics.T)\n",
    "    probs_similarity[np.argsort(probs_similarity)[:-top_k]] = 0\n",
    "    probs_similarity = probs_similarity / np.sum(probs_similarity)\n",
    "    results =set()\n",
    "    print(\"您看的电影是：{}\".format(movie_origin_data[movieid2idx[movie_id_val]]))\n",
    "    while len(results)<top_k:\n",
    "        c = np.random.choice(3883, 1, p=probs_similarity)[0]\n",
    "        results.add(c)\n",
    "    for val in (results):\n",
    "        print(val)\n",
    "        print(movie_origin_data[val])\n",
    "    return results"
   ]
  },
  {
   "cell_type": "code",
   "execution_count": 266,
   "metadata": {},
   "outputs": [
    {
     "name": "stdout",
     "output_type": "stream",
     "text": [
      "231\n",
      "[234 'Exit to Eden (1994)' 'Comedy']\n",
      "2759\n",
      "[2828 'Dudley Do-Right (1999)' \"Children's|Comedy\"]\n",
      "2323\n",
      "[2392 'Jack Frost (1998)' 'Comedy|Drama']\n",
      "822\n",
      "[833 'High School High (1996)' 'Comedy']\n",
      "3705\n",
      "[3774 'House Party 2 (1991)' 'Comedy']\n"
     ]
    },
    {
     "data": {
      "text/plain": [
       "{231, 822, 2323, 2759, 3705}"
      ]
     },
     "execution_count": 266,
     "metadata": {},
     "output_type": "execute_result"
    }
   ],
   "source": [
    "recommend_same_type_movie(234,10)"
   ]
  },
  {
   "cell_type": "markdown",
   "metadata": {},
   "source": [
    "# 推荐您喜欢的电影"
   ]
  },
  {
   "cell_type": "code",
   "execution_count": 271,
   "metadata": {},
   "outputs": [],
   "source": [
    "def recommend_your_favorite_movie(user_id_val, top_k = 10):\n",
    "    probs_embeddings = (user_intermedian_output[user_id_val-1])\n",
    "    probs_similarity = probs_embeddings.dot(movie_intermedian_output.T)\n",
    "    probs_similarity[np.argsort(probs_similarity)[:-top_k]] = 0\n",
    "    probs_similarity = probs_similarity / np.sum(probs_similarity)\n",
    "    results =set()\n",
    "    while len(results)<top_k:\n",
    "        c = np.random.choice(3883, 1, p=probs_similarity)[0]\n",
    "        results.add(c)\n",
    "    for val in (results):\n",
    "        print(val)\n",
    "        print(movie_orgin_data[val])\n",
    "    return results"
   ]
  },
  {
   "cell_type": "code",
   "execution_count": 272,
   "metadata": {},
   "outputs": [
    {
     "name": "stdout",
     "output_type": "stream",
     "text": [
      "257\n",
      "[260 'Star Wars: Episode IV - A New Hope (1977)'\n",
      " 'Action|Adventure|Fantasy|Sci-Fi']\n",
      "740\n",
      "[750\n",
      " 'Dr. Strangelove or: How I Learned to Stop Worrying and Love the Bomb (1963)'\n",
      " 'Sci-Fi|War']\n",
      "711\n",
      "[720 'Wallace & Gromit: The Best of Aardman Animation (1996)' 'Animation']\n",
      "3113\n",
      "[3182 'Mr. Death: The Rise and Fall of Fred A. Leuchter Jr. (1999)'\n",
      " 'Documentary']\n",
      "523\n",
      "[527 \"Schindler's List (1993)\" 'Drama|War']\n",
      "847\n",
      "[858 'Godfather, The (1972)' 'Action|Crime|Drama']\n",
      "49\n",
      "[50 'Usual Suspects, The (1995)' 'Crime|Thriller']\n",
      "893\n",
      "[905 'It Happened One Night (1934)' 'Comedy']\n",
      "1214\n",
      "[1233 'Boat, The (Das Boot) (1981)' 'Action|Drama|War']\n",
      "1183\n",
      "[1201 'Good, The Bad and The Ugly, The (1966)' 'Action|Western']\n"
     ]
    },
    {
     "data": {
      "text/plain": [
       "{49, 257, 523, 711, 740, 847, 893, 1183, 1214, 3113}"
      ]
     },
     "execution_count": 272,
     "metadata": {},
     "output_type": "execute_result"
    }
   ],
   "source": [
    "recommend_your_favorite_movie(220)"
   ]
  },
  {
   "cell_type": "code",
   "execution_count": null,
   "metadata": {},
   "outputs": [],
   "source": []
  }
 ],
 "metadata": {
  "kernelspec": {
   "display_name": "Python 3",
   "language": "python",
   "name": "python3"
  },
  "language_info": {
   "codemirror_mode": {
    "name": "ipython",
    "version": 3
   },
   "file_extension": ".py",
   "mimetype": "text/x-python",
   "name": "python",
   "nbconvert_exporter": "python",
   "pygments_lexer": "ipython3",
   "version": "3.7.1"
  }
 },
 "nbformat": 4,
 "nbformat_minor": 2
}
